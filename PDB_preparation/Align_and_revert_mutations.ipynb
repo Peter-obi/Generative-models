{
 "cells": [
  {
   "cell_type": "code",
   "execution_count": 18,
   "id": "06833af5",
   "metadata": {},
   "outputs": [],
   "source": [
    "import pandas as pd\n",
    "from biopandas.pdb import PandasPdb\n",
    "\n",
    "# Read in the PDB file using Biopandas\n",
    "ppdb = PandasPdb()\n",
    "ppdb.read_pdb('5xra.pdb')\n",
    "\n",
    "# Remove any 'ATOM' records whose residue number is greater than 1000 ie T4 lysozyme\n",
    "ppdb.df['ATOM'] = ppdb.df['ATOM'][ppdb.df['ATOM']['residue_number'] <= 1000]\n",
    "\n",
    "# Save the modified dataframe to another PDB file\n",
    "ppdb.to_pdb(path='output.pdb', records=['ATOM'])"
   ]
  },
  {
   "cell_type": "code",
   "execution_count": null,
   "id": "314e3d37",
   "metadata": {},
   "outputs": [],
   "source": [
    "import Bio.PDB\n",
    "from io import StringIO\n",
    "from Bio import SeqIO\n",
    "from Bio.PDB import PDBParser, PDBIO\n",
    "from Bio.SeqUtils import seq3\n",
    "\n",
    "uniprot_id = 'P21554'\n",
    "parser = Bio.PDB.PDBParser()\n",
    "structure = parser.get_structure('protein', 'output.pdb')\n",
    "url = f'https://www.uniprot.org/uniprot/{uniprot_id}.fasta'\n",
    "response = requests.get(url)\n",
    "wildtype_seq = SeqIO.read(StringIO(response.text), 'fasta').seq\n",
    "\n",
    "# Loop through the residues and compare to the wild-type sequence\n",
    "for residue in structure.get_residues():\n",
    "    res_num = residue.id[1]\n",
    "    wt_res = wildtype_seq[res_num-1]\n",
    "    pdb_res = seq3(residue.resname)\n",
    "    if wt_res != pdb_res:\n",
    "        # Revert the mutation by changing the residue identity (in three-letter code) to the wild-type residue\n",
    "        residue.resname = seq3(wt_res)\n",
    "\n",
    "# Save the modified PDB file\n",
    "io = PDBIO()\n",
    "io.set_structure(structure)\n",
    "io.save(\"protein_wt.pdb\")"
   ]
  },
  {
   "cell_type": "code",
   "execution_count": null,
   "id": "2da7a83d",
   "metadata": {},
   "outputs": [],
   "source": [
    "# Load the PDB file\n",
    "ppdb = PandasPdb()\n",
    "ppdb.read_pdb(\"protein_wt.pdb\")\n",
    "\n",
    "# Isolate CA atoms\n",
    "ppdb.df['ATOM'] = ppdb.df[\"ATOM\"][ppdb.df[\"ATOM\"][\"atom_name\"] == \"CA\"]\n",
    "\n",
    "# Save the modified dataframe to another PDB file\n",
    "ppdb.to_pdb(path='CA_output.pdb', records=['ATOM'])"
   ]
  },
  {
   "cell_type": "code",
   "execution_count": 29,
   "id": "7732630e",
   "metadata": {},
   "outputs": [],
   "source": [
    "# Load the PDB file\n",
    "ppdb = PandasPdb()\n",
    "ppdb.read_pdb(\"protein_wt.pdb\")\n",
    "\n",
    "# Isolate backbone atoms\n",
    "ppdb.df['ATOM'] = ppdb.df['ATOM'][(ppdb.df['ATOM']['atom_name'] == 'C') | \n",
    "                            (ppdb.df['ATOM']['atom_name'] == 'O') | \n",
    "                            (ppdb.df['ATOM']['atom_name'] == 'N') | \n",
    "                            (ppdb.df['ATOM']['atom_name'] == 'CA')]\n",
    "\n",
    "# Save the modified dataframe to another PDB file\n",
    "ppdb.to_pdb(path='Backbone.pdb', records=['ATOM'])"
   ]
  },
  {
   "cell_type": "code",
   "execution_count": null,
   "id": "e22ecaef",
   "metadata": {},
   "outputs": [],
   "source": []
  }
 ],
 "metadata": {
  "kernelspec": {
   "display_name": "Python 3 (ipykernel)",
   "language": "python",
   "name": "python3"
  },
  "language_info": {
   "codemirror_mode": {
    "name": "ipython",
    "version": 3
   },
   "file_extension": ".py",
   "mimetype": "text/x-python",
   "name": "python",
   "nbconvert_exporter": "python",
   "pygments_lexer": "ipython3",
   "version": "3.9.13"
  }
 },
 "nbformat": 4,
 "nbformat_minor": 5
}
